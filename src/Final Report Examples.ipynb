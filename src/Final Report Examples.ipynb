{
 "cells": [
  {
   "cell_type": "code",
   "execution_count": 1,
   "id": "8a608913",
   "metadata": {},
   "outputs": [
    {
     "data": {
      "text/plain": [
       "<module 'bright_future_base' from '\\\\\\\\wsl$\\\\Ubuntu-20.04\\\\home\\\\syoro\\\\bright-future\\\\src\\\\bright_future_base.py'>"
      ]
     },
     "execution_count": 1,
     "metadata": {},
     "output_type": "execute_result"
    }
   ],
   "source": [
    "import numpy as np\n",
    "import pandas as pd\n",
    "import json\n",
    "from importlib import reload \n",
    "import statsmodels.api as sm\n",
    "import bright_future_base as bf\n",
    "reload(bf)"
   ]
  },
  {
   "cell_type": "markdown",
   "id": "ae8e1dc5",
   "metadata": {},
   "source": [
    "# Example 1 with BrightFuture"
   ]
  },
  {
   "cell_type": "code",
   "execution_count": 2,
   "id": "e9ddc2b0",
   "metadata": {},
   "outputs": [
    {
     "name": "stdout",
     "output_type": "stream",
     "text": [
      "Iteration's best model Features: ['count']\n",
      "Iteration's best model r2: 0.05195286058228554\n",
      "Iteration's best model Features: ['count', 'adjustedcount']\n",
      "Iteration's best model r2: 0.05263145367997679\n",
      "Overall Best model Features: ['count']\n",
      "Overall Best model summary:\n",
      "                            OLS Regression Results                            \n",
      "==============================================================================\n",
      "Dep. Variable:            award_count   R-squared:                       0.052\n",
      "Model:                            OLS   Adj. R-squared:                  0.052\n",
      "Method:                 Least Squares   F-statistic:                     790.3\n",
      "Date:                Fri, 13 May 2022   Prob (F-statistic):          2.49e-169\n",
      "Time:                        01:23:30   Log-Likelihood:                -6008.1\n",
      "No. Observations:               14423   AIC:                         1.202e+04\n",
      "Df Residuals:                   14421   BIC:                         1.204e+04\n",
      "Df Model:                           1                                         \n",
      "Covariance Type:            nonrobust                                         \n",
      "==============================================================================\n",
      "                 coef    std err          t      P>|t|      [0.025      0.975]\n",
      "------------------------------------------------------------------------------\n",
      "const          0.0215      0.004      5.719      0.000       0.014       0.029\n",
      "count          0.0040      0.000     28.112      0.000       0.004       0.004\n",
      "==============================================================================\n",
      "Omnibus:                    16528.916   Durbin-Watson:                   1.990\n",
      "Prob(Omnibus):                  0.000   Jarque-Bera (JB):          1705825.245\n",
      "Skew:                           6.037   Prob(JB):                         0.00\n",
      "Kurtosis:                      54.892   Cond. No.                         32.2\n",
      "==============================================================================\n",
      "\n",
      "Notes:\n",
      "[1] Standard Errors assume that the covariance matrix of the errors is correctly specified.\n"
     ]
    }
   ],
   "source": [
    "df_works_author = bf.load_df(\"works\", grouped_by=\"author\")\n",
    "df_awards_author = bf.load_df(\"awards\", grouped_by=\"author\")\n",
    "df_merged = bf.merge_datasets([\"works\", \"awards\"])\n",
    "\n",
    "best_model = bf.model_builder(data=df_merged, \n",
    "                responder=\"award_count\",\n",
    "                 predictors=[\"adjustedcount\", \"count\"],\n",
    "                 display=\"all\")"
   ]
  },
  {
   "cell_type": "markdown",
   "id": "99b172bc",
   "metadata": {},
   "source": [
    "# Example 1 without BrightFuture"
   ]
  },
  {
   "cell_type": "code",
   "execution_count": 3,
   "id": "d8d740bd",
   "metadata": {},
   "outputs": [
    {
     "name": "stdout",
     "output_type": "stream",
     "text": [
      "                            OLS Regression Results                            \n",
      "==============================================================================\n",
      "Dep. Variable:            award_count   R-squared:                       0.918\n",
      "Model:                            OLS   Adj. R-squared:                  0.836\n",
      "Method:                 Least Squares   F-statistic:                     11.21\n",
      "Date:                Fri, 13 May 2022   Prob (F-statistic):              0.185\n",
      "Time:                        01:23:34   Log-Likelihood:                 1.7531\n",
      "No. Observations:                   3   AIC:                            0.4938\n",
      "Df Residuals:                       1   BIC:                            -1.309\n",
      "Df Model:                           1                                         \n",
      "Covariance Type:            nonrobust                                         \n",
      "==============================================================================\n",
      "                 coef    std err          t      P>|t|      [0.025      0.975]\n",
      "------------------------------------------------------------------------------\n",
      "const          2.2540      0.589      3.825      0.163      -5.233       9.741\n",
      "count         -0.0211      0.006     -3.349      0.185      -0.101       0.059\n",
      "==============================================================================\n",
      "Omnibus:                          nan   Durbin-Watson:                   1.943\n",
      "Prob(Omnibus):                    nan   Jarque-Bera (JB):                0.427\n",
      "Skew:                          -0.541   Prob(JB):                        0.808\n",
      "Kurtosis:                       1.500   Cond. No.                         408.\n",
      "==============================================================================\n",
      "\n",
      "Notes:\n",
      "[1] Standard Errors assume that the covariance matrix of the errors is correctly specified.\n",
      "                            OLS Regression Results                            \n",
      "==============================================================================\n",
      "Dep. Variable:            award_count   R-squared:                       1.000\n",
      "Model:                            OLS   Adj. R-squared:                    nan\n",
      "Method:                 Least Squares   F-statistic:                       nan\n",
      "Date:                Fri, 13 May 2022   Prob (F-statistic):                nan\n",
      "Time:                        01:23:34   Log-Likelihood:                 102.24\n",
      "No. Observations:                   3   AIC:                            -198.5\n",
      "Df Residuals:                       0   BIC:                            -201.2\n",
      "Df Model:                           2                                         \n",
      "Covariance Type:            nonrobust                                         \n",
      "=================================================================================\n",
      "                    coef    std err          t      P>|t|      [0.025      0.975]\n",
      "---------------------------------------------------------------------------------\n",
      "const             2.1633        inf          0        nan         nan         nan\n",
      "adjustedcount    -0.0175        inf         -0        nan         nan         nan\n",
      "count            -0.0150        inf         -0        nan         nan         nan\n",
      "==============================================================================\n",
      "Omnibus:                          nan   Durbin-Watson:                   0.111\n",
      "Prob(Omnibus):                    nan   Jarque-Bera (JB):                0.531\n",
      "Skew:                          -0.707   Prob(JB):                        0.767\n",
      "Kurtosis:                       1.500   Cond. No.                         431.\n",
      "==============================================================================\n",
      "\n",
      "Notes:\n",
      "[1] Standard Errors assume that the covariance matrix of the errors is correctly specified.\n"
     ]
    },
    {
     "name": "stderr",
     "output_type": "stream",
     "text": [
      "c:\\tools\\miniconda3\\envs\\6s079\\lib\\site-packages\\statsmodels\\stats\\stattools.py:74: ValueWarning: omni_normtest is not valid with less than 8 observations; 3 samples were given.\n",
      "  warn(\"omni_normtest is not valid with less than 8 observations; %i \"\n",
      "c:\\tools\\miniconda3\\envs\\6s079\\lib\\site-packages\\statsmodels\\stats\\stattools.py:74: ValueWarning: omni_normtest is not valid with less than 8 observations; 3 samples were given.\n",
      "  warn(\"omni_normtest is not valid with less than 8 observations; %i \"\n",
      "c:\\tools\\miniconda3\\envs\\6s079\\lib\\site-packages\\statsmodels\\regression\\linear_model.py:1749: RuntimeWarning: divide by zero encountered in true_divide\n",
      "  return 1 - (np.divide(self.nobs - self.k_constant, self.df_resid)\n",
      "c:\\tools\\miniconda3\\envs\\6s079\\lib\\site-packages\\statsmodels\\regression\\linear_model.py:1749: RuntimeWarning: invalid value encountered in double_scalars\n",
      "  return 1 - (np.divide(self.nobs - self.k_constant, self.df_resid)\n",
      "c:\\tools\\miniconda3\\envs\\6s079\\lib\\site-packages\\statsmodels\\regression\\linear_model.py:1671: RuntimeWarning: divide by zero encountered in double_scalars\n",
      "  return np.dot(wresid, wresid) / self.df_resid\n"
     ]
    }
   ],
   "source": [
    "df = pd.read_csv('../data/awards-data.tsv', sep='\\t', header=0)\n",
    "\n",
    "with open('../data/csrankings/authors-small.json') as f:\n",
    "    authors_small = json.load(f)\n",
    "df_authors = pd.DataFrame.from_dict(authors_small)\n",
    "df_authors['count'] = df_authors['count'].astype(float)\n",
    "df_authors['adjustedcount'] = df_authors['adjustedcount'].astype(float)\n",
    "df_authors['year'] = df_authors['year'].astype(float)\n",
    "df_authors = df_authors.rename(columns={\"title\": \"field\", \"name\": \"author\"})\n",
    "df_works = df_authors\n",
    "\n",
    "df_works_author = df_works.groupby(\"author\").sum().reset_index()\n",
    "df_awards = df.assign(\n",
    "    award_count=1).groupby(\"author-name\").sum().drop(\n",
    "    columns=[\"year\"]).reset_index()\n",
    "\n",
    "merged_df = df_awards.merge(df_works_author,\n",
    "                            left_on='author-name',\n",
    "                            right_on='author',\n",
    "                            how='right')\n",
    "\n",
    "merged_df = merged_df.fillna(0).drop(columns=[\"year\"])\n",
    "\n",
    "\n",
    "mod = sm.OLS(merged_df.award_count,\n",
    "             sm.add_constant(merged_df[[\"count\"]]))\n",
    "res = mod.fit()\n",
    "print(res.summary())\n",
    "\n",
    "\n",
    "mod = sm.OLS(merged_df.award_count,\n",
    "             sm.add_constant(merged_df[[\"adjustedcount\",\n",
    "                                        \"count\"]]))\n",
    "res = mod.fit()\n",
    "print(res.summary())"
   ]
  },
  {
   "cell_type": "markdown",
   "id": "001aef13",
   "metadata": {},
   "source": [
    "# Example 2 with BrightFuture"
   ]
  },
  {
   "cell_type": "code",
   "execution_count": 4,
   "id": "7bdf489d",
   "metadata": {},
   "outputs": [],
   "source": [
    "df_prof = bf.load_df(\"profs\")"
   ]
  },
  {
   "cell_type": "markdown",
   "id": "b9fe93eb",
   "metadata": {},
   "source": [
    "# Example 2 without BrightFuture"
   ]
  },
  {
   "cell_type": "code",
   "execution_count": 5,
   "id": "adb06a1d",
   "metadata": {},
   "outputs": [
    {
     "name": "stdout",
     "output_type": "stream",
     "text": [
      "                            OLS Regression Results                            \n",
      "==============================================================================\n",
      "Dep. Variable:          is_uni_top_10   R-squared:                       0.069\n",
      "Model:                            OLS   Adj. R-squared:                  0.069\n",
      "Method:                 Least Squares   F-statistic:                     190.5\n",
      "Date:                Fri, 13 May 2022   Prob (F-statistic):           1.59e-80\n",
      "Time:                        01:23:48   Log-Likelihood:                -2424.5\n",
      "No. Observations:                5144   AIC:                             4855.\n",
      "Df Residuals:                    5141   BIC:                             4875.\n",
      "Df Model:                           2                                         \n",
      "Covariance Type:            nonrobust                                         \n",
      "=======================================================================================\n",
      "                          coef    std err          t      P>|t|      [0.025      0.975]\n",
      "---------------------------------------------------------------------------------------\n",
      "const                   0.1126      0.007     15.850      0.000       0.099       0.127\n",
      "is_bachelors_top_10     0.0896      0.016      5.516      0.000       0.058       0.122\n",
      "is_doctorate_top_10     0.1878      0.011     16.388      0.000       0.165       0.210\n",
      "==============================================================================\n",
      "Omnibus:                      922.665   Durbin-Watson:                   0.278\n",
      "Prob(Omnibus):                  0.000   Jarque-Bera (JB):             1518.971\n",
      "Skew:                           1.327   Prob(JB):                         0.00\n",
      "Kurtosis:                       3.210   Cond. No.                         3.46\n",
      "==============================================================================\n",
      "\n",
      "Notes:\n",
      "[1] Standard Errors assume that the covariance matrix of the errors is correctly specified.\n"
     ]
    }
   ],
   "source": [
    "df_prof = pd.read_csv('../data/profs.tsv', sep='\\t', header=0)\n",
    "\n",
    "uni_rankings = [\"Massachusetts Institute of Technology\",\n",
    "                \"Carnegie Mellon University\",\n",
    "                \"Stanford University\",\n",
    "                \"University of California, Berkeley\",\n",
    "                \"University of Illinois at Urbana-Champaign\",\n",
    "                \"Cornell University\",\n",
    "                \"Georgia Institute of Technology\",\n",
    "                \"University of Washington\",\n",
    "                \"Princeton University\",\n",
    "                \"University of Texas at Austin\"]\n",
    "\n",
    "df_prof[\"is_uni_top_10\"] = df_prof[\"University\"].isin(uni_rankings).astype(int)\n",
    "df_prof[\"is_bachelors_top_10\"] = df_prof[\"Bachelors\"].isin(uni_rankings).astype(int)\n",
    "df_prof[\"is_doctorate_top_10\"] = df_prof[\"Doctorate\"].isin(uni_rankings).astype(int)\n",
    "\n",
    "mod = sm.OLS(df_prof.is_uni_top_10,\n",
    "             sm.add_constant(df_prof[[\"is_bachelors_top_10\",\n",
    "                                      \"is_doctorate_top_10\"]]))\n",
    "res = mod.fit()\n",
    "print(res.summary())"
   ]
  }
 ],
 "metadata": {
  "interpreter": {
   "hash": "98e05c05992e930807fe788f9aae80420ee99fb8a9e4a0ca0e84103c9a329069"
  },
  "kernelspec": {
   "display_name": "Python 3.10.4 ('6s079')",
   "language": "python",
   "name": "python3"
  },
  "language_info": {
   "codemirror_mode": {
    "name": "ipython",
    "version": 3
   },
   "file_extension": ".py",
   "mimetype": "text/x-python",
   "name": "python",
   "nbconvert_exporter": "python",
   "pygments_lexer": "ipython3",
   "version": "3.10.4"
  }
 },
 "nbformat": 4,
 "nbformat_minor": 5
}
