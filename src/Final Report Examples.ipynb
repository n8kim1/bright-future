{
 "cells": [
  {
   "cell_type": "code",
   "execution_count": 1,
   "id": "d84bec7c",
   "metadata": {},
   "outputs": [
    {
     "data": {
      "text/plain": [
       "<module 'bright_future_base' from '/home/shinjini/Shinjini/MIT/Courses/Spring 2022/6.S079/Project/Code/bright-future/src/bright_future_base.py'>"
      ]
     },
     "execution_count": 1,
     "metadata": {},
     "output_type": "execute_result"
    }
   ],
   "source": [
    "import numpy as np\n",
    "import pandas as pd\n",
    "import json\n",
    "from importlib import reload \n",
    "import statsmodels.api as sm\n",
    "import bright_future_base as bf\n",
    "reload(bf)"
   ]
  },
  {
   "cell_type": "code",
   "execution_count": null,
   "id": "b34f1736",
   "metadata": {},
   "outputs": [],
   "source": [
    "# with BrightFuture\n",
    "\n",
    "df_works_author = bf.load_df(\"works\", grouped_by=\"author\")\n",
    "df_awards_author = bf.load_df(\"awards\", grouped_by=\"author\")\n",
    "bf.merge_datasets([\"works\", \"awards\"])"
   ]
  }
 ],
 "metadata": {
  "kernelspec": {
   "display_name": "Python 3",
   "language": "python",
   "name": "python3"
  },
  "language_info": {
   "codemirror_mode": {
    "name": "ipython",
    "version": 3
   },
   "file_extension": ".py",
   "mimetype": "text/x-python",
   "name": "python",
   "nbconvert_exporter": "python",
   "pygments_lexer": "ipython3",
   "version": "3.6.9"
  }
 },
 "nbformat": 4,
 "nbformat_minor": 5
}
