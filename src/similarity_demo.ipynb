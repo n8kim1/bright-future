{
 "cells": [
  {
   "cell_type": "code",
   "execution_count": 1,
   "metadata": {},
   "outputs": [],
   "source": [
    "import numpy as np\n",
    "import pandas as pd"
   ]
  },
  {
   "cell_type": "code",
   "execution_count": 2,
   "metadata": {},
   "outputs": [],
   "source": [
    "import json"
   ]
  },
  {
   "cell_type": "code",
   "execution_count": 73,
   "metadata": {},
   "outputs": [
    {
     "data": {
      "text/plain": [
       "<module 'bright_future_base' from '\\\\\\\\wsl$\\\\Ubuntu-20.04\\\\home\\\\syoro\\\\bright-future\\\\src\\\\bright_future_base.py'>"
      ]
     },
     "execution_count": 73,
     "metadata": {},
     "output_type": "execute_result"
    }
   ],
   "source": [
    "from importlib import reload \n",
    "import bright_future_base as bf\n",
    "reload(bf)"
   ]
  },
  {
   "cell_type": "code",
   "execution_count": 39,
   "metadata": {},
   "outputs": [],
   "source": [
    "df_works = bf.load_df_works()"
   ]
  },
  {
   "cell_type": "markdown",
   "metadata": {},
   "source": [
    "Hypothetical: Say Tim has won the \"Kraska Krown\", Sam has won the \"Madden Memorial (RIP Sam) Award\". And, they have each won the \"6S079 Prof Award\", in different years.\n",
    "Let's get an award winner, then load their data from a relevant year."
   ]
  },
  {
   "cell_type": "code",
   "execution_count": 40,
   "metadata": {},
   "outputs": [
    {
     "data": {
      "text/plain": [
       "{'Kraska Krown': {2021: 'Tim Kraska'},\n",
       " 'Madden Memorial (RIP Sam) Award': {2020: 'Samuel Madden'},\n",
       " '6.S079 Prof Award': {2021: 'Tim Kraska', 2020: 'Samuel Madden'}}"
      ]
     },
     "execution_count": 40,
     "metadata": {},
     "output_type": "execute_result"
    }
   ],
   "source": [
    "award_winners = bf.load_award_winners()\n",
    "award_winners"
   ]
  },
  {
   "cell_type": "code",
   "execution_count": 41,
   "metadata": {},
   "outputs": [
    {
     "data": {
      "text/html": [
       "<div>\n",
       "<style scoped>\n",
       "    .dataframe tbody tr th:only-of-type {\n",
       "        vertical-align: middle;\n",
       "    }\n",
       "\n",
       "    .dataframe tbody tr th {\n",
       "        vertical-align: top;\n",
       "    }\n",
       "\n",
       "    .dataframe thead th {\n",
       "        text-align: right;\n",
       "    }\n",
       "</style>\n",
       "<table border=\"1\" class=\"dataframe\">\n",
       "  <thead>\n",
       "    <tr style=\"text-align: right;\">\n",
       "      <th></th>\n",
       "      <th>author</th>\n",
       "      <th>dept</th>\n",
       "      <th>area</th>\n",
       "      <th>count</th>\n",
       "      <th>adjustedcount</th>\n",
       "      <th>year</th>\n",
       "      <th>field</th>\n",
       "    </tr>\n",
       "  </thead>\n",
       "  <tbody>\n",
       "    <tr>\n",
       "      <th>0</th>\n",
       "      <td>Samuel Madden</td>\n",
       "      <td>Massachusetts Institute of Technology</td>\n",
       "      <td>aaai</td>\n",
       "      <td>1</td>\n",
       "      <td>0.1</td>\n",
       "      <td>2020</td>\n",
       "      <td>AI</td>\n",
       "    </tr>\n",
       "    <tr>\n",
       "      <th>3</th>\n",
       "      <td>Samuel Madden</td>\n",
       "      <td>Massachusetts Institute of Technology</td>\n",
       "      <td>eccv</td>\n",
       "      <td>1</td>\n",
       "      <td>0.11111</td>\n",
       "      <td>2020</td>\n",
       "      <td>Vision</td>\n",
       "    </tr>\n",
       "    <tr>\n",
       "      <th>18</th>\n",
       "      <td>Samuel Madden</td>\n",
       "      <td>Massachusetts Institute of Technology</td>\n",
       "      <td>icde</td>\n",
       "      <td>1</td>\n",
       "      <td>0.2</td>\n",
       "      <td>2020</td>\n",
       "      <td>DB</td>\n",
       "    </tr>\n",
       "    <tr>\n",
       "      <th>24</th>\n",
       "      <td>Samuel Madden</td>\n",
       "      <td>Massachusetts Institute of Technology</td>\n",
       "      <td>mobisys</td>\n",
       "      <td>1</td>\n",
       "      <td>0.1</td>\n",
       "      <td>2020</td>\n",
       "      <td>Mobile</td>\n",
       "    </tr>\n",
       "    <tr>\n",
       "      <th>28</th>\n",
       "      <td>Samuel Madden</td>\n",
       "      <td>Massachusetts Institute of Technology</td>\n",
       "      <td>oopsla</td>\n",
       "      <td>1</td>\n",
       "      <td>0.25</td>\n",
       "      <td>2020</td>\n",
       "      <td>PL</td>\n",
       "    </tr>\n",
       "  </tbody>\n",
       "</table>\n",
       "</div>"
      ],
      "text/plain": [
       "           author                                   dept     area  count  \\\n",
       "0   Samuel Madden  Massachusetts Institute of Technology     aaai      1   \n",
       "3   Samuel Madden  Massachusetts Institute of Technology     eccv      1   \n",
       "18  Samuel Madden  Massachusetts Institute of Technology     icde      1   \n",
       "24  Samuel Madden  Massachusetts Institute of Technology  mobisys      1   \n",
       "28  Samuel Madden  Massachusetts Institute of Technology   oopsla      1   \n",
       "\n",
       "    adjustedcount  year   field  \n",
       "0             0.1  2020      AI  \n",
       "3         0.11111  2020  Vision  \n",
       "18            0.2  2020      DB  \n",
       "24            0.1  2020  Mobile  \n",
       "28           0.25  2020      PL  "
      ]
     },
     "execution_count": 41,
     "metadata": {},
     "output_type": "execute_result"
    }
   ],
   "source": [
    "# TODO filter_for_award_winner( (2020:'Sam') ) or smth\n",
    "works_madden_award_winner = bf.filter_works(df_works, \"Samuel Madden\", 2020)\n",
    "works_madden_award_winner.head()"
   ]
  },
  {
   "cell_type": "markdown",
   "metadata": {},
   "source": [
    "Use this raw data, to construct a \"profile\" -- some aggregate facts about this raw data. Kinda like saying \"mean\", \"count\", \"vizualization\", etc -- a representation that's less information but easier to parse."
   ]
  },
  {
   "cell_type": "code",
   "execution_count": 42,
   "metadata": {},
   "outputs": [
    {
     "data": {
      "text/plain": [
       "{'AI': 1, 'DB': 7, 'Mobile': 1, 'PL': 1, 'Vision': 1}"
      ]
     },
     "execution_count": 42,
     "metadata": {},
     "output_type": "execute_result"
    }
   ],
   "source": [
    "# Profile: count works by field\n",
    "bf.count_works_by_field(works_madden_award_winner)"
   ]
  },
  {
   "cell_type": "markdown",
   "metadata": {},
   "source": [
    "How well does a diff person's research profile (hypothetically, Tim's cuz im too lazy to load data) stick up to the award winner?"
   ]
  },
  {
   "cell_type": "code",
   "execution_count": 43,
   "metadata": {},
   "outputs": [
    {
     "data": {
      "text/html": [
       "<div>\n",
       "<style scoped>\n",
       "    .dataframe tbody tr th:only-of-type {\n",
       "        vertical-align: middle;\n",
       "    }\n",
       "\n",
       "    .dataframe tbody tr th {\n",
       "        vertical-align: top;\n",
       "    }\n",
       "\n",
       "    .dataframe thead th {\n",
       "        text-align: right;\n",
       "    }\n",
       "</style>\n",
       "<table border=\"1\" class=\"dataframe\">\n",
       "  <thead>\n",
       "    <tr style=\"text-align: right;\">\n",
       "      <th></th>\n",
       "      <th>author</th>\n",
       "      <th>dept</th>\n",
       "      <th>area</th>\n",
       "      <th>count</th>\n",
       "      <th>adjustedcount</th>\n",
       "      <th>year</th>\n",
       "      <th>field</th>\n",
       "    </tr>\n",
       "  </thead>\n",
       "  <tbody>\n",
       "    <tr>\n",
       "      <th>76</th>\n",
       "      <td>Tim Kraska</td>\n",
       "      <td>Massachusetts Institute of Technology</td>\n",
       "      <td>icde</td>\n",
       "      <td>1</td>\n",
       "      <td>0.33333</td>\n",
       "      <td>2020</td>\n",
       "      <td>DB</td>\n",
       "    </tr>\n",
       "    <tr>\n",
       "      <th>78</th>\n",
       "      <td>Tim Kraska</td>\n",
       "      <td>Massachusetts Institute of Technology</td>\n",
       "      <td>mobisys</td>\n",
       "      <td>1</td>\n",
       "      <td>0.1</td>\n",
       "      <td>2020</td>\n",
       "      <td>Mobile</td>\n",
       "    </tr>\n",
       "    <tr>\n",
       "      <th>90</th>\n",
       "      <td>Tim Kraska</td>\n",
       "      <td>Massachusetts Institute of Technology</td>\n",
       "      <td>sigmod</td>\n",
       "      <td>7</td>\n",
       "      <td>1.3444</td>\n",
       "      <td>2020</td>\n",
       "      <td>DB</td>\n",
       "    </tr>\n",
       "    <tr>\n",
       "      <th>101</th>\n",
       "      <td>Tim Kraska</td>\n",
       "      <td>Massachusetts Institute of Technology</td>\n",
       "      <td>vldb</td>\n",
       "      <td>3</td>\n",
       "      <td>0.54167</td>\n",
       "      <td>2020</td>\n",
       "      <td>DB</td>\n",
       "    </tr>\n",
       "  </tbody>\n",
       "</table>\n",
       "</div>"
      ],
      "text/plain": [
       "         author                                   dept     area  count  \\\n",
       "76   Tim Kraska  Massachusetts Institute of Technology     icde      1   \n",
       "78   Tim Kraska  Massachusetts Institute of Technology  mobisys      1   \n",
       "90   Tim Kraska  Massachusetts Institute of Technology   sigmod      7   \n",
       "101  Tim Kraska  Massachusetts Institute of Technology     vldb      3   \n",
       "\n",
       "     adjustedcount  year   field  \n",
       "76         0.33333  2020      DB  \n",
       "78             0.1  2020  Mobile  \n",
       "90          1.3444  2020      DB  \n",
       "101        0.54167  2020      DB  "
      ]
     },
     "execution_count": 43,
     "metadata": {},
     "output_type": "execute_result"
    }
   ],
   "source": [
    "my_works = bf.filter_works(df_works, \"Tim Kraska\", 2020)\n",
    "my_works.head()"
   ]
  },
  {
   "cell_type": "code",
   "execution_count": 57,
   "metadata": {},
   "outputs": [
    {
     "name": "stdout",
     "output_type": "stream",
     "text": [
      "0.9700112084454195\n",
      "0.9700112084454195\n"
     ]
    }
   ],
   "source": [
    "print(bf.similarity_works(works_madden_award_winner, my_works))\n",
    "\n",
    "# alternatively, for convenicne\n",
    "print(bf.similarity_by_author(df_works, 'Samuel Madden', 'Tim Kraska', year=2020))"
   ]
  },
  {
   "cell_type": "markdown",
   "metadata": {},
   "source": [
    "So, Tim's research profile is quite similar to the Madden award winner!"
   ]
  },
  {
   "cell_type": "code",
   "execution_count": 75,
   "metadata": {},
   "outputs": [
    {
     "data": {
      "text/plain": [
       "SGDClassifier(loss='log')"
      ]
     },
     "execution_count": 75,
     "metadata": {},
     "output_type": "execute_result"
    }
   ],
   "source": [
    "bf.train_classifier(df_works, None, None)"
   ]
  }
 ],
 "metadata": {
  "interpreter": {
   "hash": "98e05c05992e930807fe788f9aae80420ee99fb8a9e4a0ca0e84103c9a329069"
  },
  "kernelspec": {
   "display_name": "Python 3",
   "language": "python",
   "name": "python3"
  },
  "language_info": {
   "codemirror_mode": {
    "name": "ipython",
    "version": 3
   },
   "file_extension": ".py",
   "mimetype": "text/x-python",
   "name": "python",
   "nbconvert_exporter": "python",
   "pygments_lexer": "ipython3",
   "version": "3.6.9"
  }
 },
 "nbformat": 4,
 "nbformat_minor": 2
}
