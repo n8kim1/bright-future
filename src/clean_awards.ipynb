{
 "cells": [
  {
   "cell_type": "code",
   "execution_count": 1,
   "metadata": {},
   "outputs": [],
   "source": [
    "import numpy as np\n",
    "import pandas as pd"
   ]
  },
  {
   "cell_type": "markdown",
   "metadata": {},
   "source": [
    "# TODO i did some jquery work. Write this down..."
   ]
  },
  {
   "cell_type": "code",
   "execution_count": 2,
   "metadata": {},
   "outputs": [],
   "source": [
    "import json"
   ]
  },
  {
   "cell_type": "code",
   "execution_count": 3,
   "metadata": {},
   "outputs": [
    {
     "data": {
      "text/plain": [
       "<module 'bright_future_base' from '\\\\\\\\wsl$\\\\Ubuntu-20.04\\\\home\\\\syoro\\\\bright-future\\\\src\\\\bright_future_base.py'>"
      ]
     },
     "execution_count": 3,
     "metadata": {},
     "output_type": "execute_result"
    }
   ],
   "source": [
    "from importlib import reload \n",
    "import bright_future_base as bf\n",
    "reload(bf)"
   ]
  },
  {
   "cell_type": "code",
   "execution_count": 4,
   "metadata": {},
   "outputs": [],
   "source": [
    "df = pd.read_csv('../data/awards-data-messy.tsv', sep='\\t', header=0)"
   ]
  },
  {
   "cell_type": "code",
   "execution_count": 5,
   "metadata": {},
   "outputs": [],
   "source": [
    "df['journal'] = df['year']"
   ]
  },
  {
   "cell_type": "code",
   "execution_count": 6,
   "metadata": {},
   "outputs": [],
   "source": [
    "df = df.fillna(method=\"ffill\")"
   ]
  },
  {
   "cell_type": "code",
   "execution_count": 7,
   "metadata": {},
   "outputs": [],
   "source": [
    "journal_row_mask = df['year'].str.contains('[A-Za-z]')"
   ]
  },
  {
   "cell_type": "code",
   "execution_count": 8,
   "metadata": {},
   "outputs": [],
   "source": [
    "# clean the journal col and year cols\n",
    "df.loc[journal_row_mask, 'year']= np.NaN\n",
    "df.loc[~journal_row_mask, 'journal']= np.NaN"
   ]
  },
  {
   "cell_type": "code",
   "execution_count": 9,
   "metadata": {},
   "outputs": [],
   "source": [
    "# fill journal\n",
    "df = df.fillna(method=\"ffill\")"
   ]
  },
  {
   "cell_type": "code",
   "execution_count": 10,
   "metadata": {},
   "outputs": [],
   "source": [
    "# cut out the journal-only rows"
   ]
  },
  {
   "cell_type": "code",
   "execution_count": 11,
   "metadata": {},
   "outputs": [],
   "source": [
    "df = df[~journal_row_mask]"
   ]
  },
  {
   "cell_type": "code",
   "execution_count": 12,
   "metadata": {},
   "outputs": [],
   "source": [
    "authors_as_lists = df.apply(lambda row: row['author'].split(';'), axis=1)"
   ]
  },
  {
   "cell_type": "code",
   "execution_count": 13,
   "metadata": {},
   "outputs": [],
   "source": [
    "df = pd.concat([df, authors_as_lists], axis=1)"
   ]
  },
  {
   "cell_type": "code",
   "execution_count": 14,
   "metadata": {},
   "outputs": [],
   "source": [
    "# Authors are as a list. Make sep entry for each\n",
    "df = df.explode(0)"
   ]
  },
  {
   "cell_type": "code",
   "execution_count": 15,
   "metadata": {},
   "outputs": [],
   "source": [
    "# Authors are name,institute. Get just name\n",
    "df['author-name'] = df[0].str.split(',').str[0]"
   ]
  },
  {
   "cell_type": "code",
   "execution_count": 16,
   "metadata": {},
   "outputs": [],
   "source": [
    "# TODO handle & s. later later."
   ]
  },
  {
   "cell_type": "code",
   "execution_count": 22,
   "metadata": {},
   "outputs": [
    {
     "ename": "KeyError",
     "evalue": "\"['author', 0] not found in axis\"",
     "output_type": "error",
     "traceback": [
      "\u001b[1;31m---------------------------------------------------------------------------\u001b[0m",
      "\u001b[1;31mKeyError\u001b[0m                                  Traceback (most recent call last)",
      "\u001b[1;32mUbuntu-20.04\\home\\syoro\\bright-future\\src\\clean_awards.ipynb Cell 18'\u001b[0m in \u001b[0;36m<cell line: 2>\u001b[1;34m()\u001b[0m\n\u001b[0;32m      <a href='vscode-notebook-cell://wsl%24/Ubuntu-20.04/home/syoro/bright-future/src/clean_awards.ipynb#ch0000017?line=0'>1</a>\u001b[0m \u001b[39m# now, drop some redundant colums cuz bloat\u001b[39;00m\n\u001b[1;32m----> <a href='vscode-notebook-cell://wsl%24/Ubuntu-20.04/home/syoro/bright-future/src/clean_awards.ipynb#ch0000017?line=1'>2</a>\u001b[0m df \u001b[39m=\u001b[39m df\u001b[39m.\u001b[39;49mdrop([\u001b[39m'\u001b[39;49m\u001b[39mauthor\u001b[39;49m\u001b[39m'\u001b[39;49m, \u001b[39m0\u001b[39;49m], axis\u001b[39m=\u001b[39;49m\u001b[39m1\u001b[39;49m)\n",
      "File \u001b[1;32mc:\\tools\\miniconda3\\envs\\6s079\\lib\\site-packages\\pandas\\util\\_decorators.py:311\u001b[0m, in \u001b[0;36mdeprecate_nonkeyword_arguments.<locals>.decorate.<locals>.wrapper\u001b[1;34m(*args, **kwargs)\u001b[0m\n\u001b[0;32m    <a href='file:///c%3A/tools/miniconda3/envs/6s079/lib/site-packages/pandas/util/_decorators.py?line=304'>305</a>\u001b[0m \u001b[39mif\u001b[39;00m \u001b[39mlen\u001b[39m(args) \u001b[39m>\u001b[39m num_allow_args:\n\u001b[0;32m    <a href='file:///c%3A/tools/miniconda3/envs/6s079/lib/site-packages/pandas/util/_decorators.py?line=305'>306</a>\u001b[0m     warnings\u001b[39m.\u001b[39mwarn(\n\u001b[0;32m    <a href='file:///c%3A/tools/miniconda3/envs/6s079/lib/site-packages/pandas/util/_decorators.py?line=306'>307</a>\u001b[0m         msg\u001b[39m.\u001b[39mformat(arguments\u001b[39m=\u001b[39marguments),\n\u001b[0;32m    <a href='file:///c%3A/tools/miniconda3/envs/6s079/lib/site-packages/pandas/util/_decorators.py?line=307'>308</a>\u001b[0m         \u001b[39mFutureWarning\u001b[39;00m,\n\u001b[0;32m    <a href='file:///c%3A/tools/miniconda3/envs/6s079/lib/site-packages/pandas/util/_decorators.py?line=308'>309</a>\u001b[0m         stacklevel\u001b[39m=\u001b[39mstacklevel,\n\u001b[0;32m    <a href='file:///c%3A/tools/miniconda3/envs/6s079/lib/site-packages/pandas/util/_decorators.py?line=309'>310</a>\u001b[0m     )\n\u001b[1;32m--> <a href='file:///c%3A/tools/miniconda3/envs/6s079/lib/site-packages/pandas/util/_decorators.py?line=310'>311</a>\u001b[0m \u001b[39mreturn\u001b[39;00m func(\u001b[39m*\u001b[39margs, \u001b[39m*\u001b[39m\u001b[39m*\u001b[39mkwargs)\n",
      "File \u001b[1;32mc:\\tools\\miniconda3\\envs\\6s079\\lib\\site-packages\\pandas\\core\\frame.py:4954\u001b[0m, in \u001b[0;36mDataFrame.drop\u001b[1;34m(self, labels, axis, index, columns, level, inplace, errors)\u001b[0m\n\u001b[0;32m   <a href='file:///c%3A/tools/miniconda3/envs/6s079/lib/site-packages/pandas/core/frame.py?line=4805'>4806</a>\u001b[0m \u001b[39m@deprecate_nonkeyword_arguments\u001b[39m(version\u001b[39m=\u001b[39m\u001b[39mNone\u001b[39;00m, allowed_args\u001b[39m=\u001b[39m[\u001b[39m\"\u001b[39m\u001b[39mself\u001b[39m\u001b[39m\"\u001b[39m, \u001b[39m\"\u001b[39m\u001b[39mlabels\u001b[39m\u001b[39m\"\u001b[39m])\n\u001b[0;32m   <a href='file:///c%3A/tools/miniconda3/envs/6s079/lib/site-packages/pandas/core/frame.py?line=4806'>4807</a>\u001b[0m \u001b[39mdef\u001b[39;00m \u001b[39mdrop\u001b[39m(\n\u001b[0;32m   <a href='file:///c%3A/tools/miniconda3/envs/6s079/lib/site-packages/pandas/core/frame.py?line=4807'>4808</a>\u001b[0m     \u001b[39mself\u001b[39m,\n\u001b[1;32m   (...)\u001b[0m\n\u001b[0;32m   <a href='file:///c%3A/tools/miniconda3/envs/6s079/lib/site-packages/pandas/core/frame.py?line=4814'>4815</a>\u001b[0m     errors: \u001b[39mstr\u001b[39m \u001b[39m=\u001b[39m \u001b[39m\"\u001b[39m\u001b[39mraise\u001b[39m\u001b[39m\"\u001b[39m,\n\u001b[0;32m   <a href='file:///c%3A/tools/miniconda3/envs/6s079/lib/site-packages/pandas/core/frame.py?line=4815'>4816</a>\u001b[0m ):\n\u001b[0;32m   <a href='file:///c%3A/tools/miniconda3/envs/6s079/lib/site-packages/pandas/core/frame.py?line=4816'>4817</a>\u001b[0m     \u001b[39m\"\"\"\u001b[39;00m\n\u001b[0;32m   <a href='file:///c%3A/tools/miniconda3/envs/6s079/lib/site-packages/pandas/core/frame.py?line=4817'>4818</a>\u001b[0m \u001b[39m    Drop specified labels from rows or columns.\u001b[39;00m\n\u001b[0;32m   <a href='file:///c%3A/tools/miniconda3/envs/6s079/lib/site-packages/pandas/core/frame.py?line=4818'>4819</a>\u001b[0m \n\u001b[1;32m   (...)\u001b[0m\n\u001b[0;32m   <a href='file:///c%3A/tools/miniconda3/envs/6s079/lib/site-packages/pandas/core/frame.py?line=4951'>4952</a>\u001b[0m \u001b[39m            weight  1.0     0.8\u001b[39;00m\n\u001b[0;32m   <a href='file:///c%3A/tools/miniconda3/envs/6s079/lib/site-packages/pandas/core/frame.py?line=4952'>4953</a>\u001b[0m \u001b[39m    \"\"\"\u001b[39;00m\n\u001b[1;32m-> <a href='file:///c%3A/tools/miniconda3/envs/6s079/lib/site-packages/pandas/core/frame.py?line=4953'>4954</a>\u001b[0m     \u001b[39mreturn\u001b[39;00m \u001b[39msuper\u001b[39;49m()\u001b[39m.\u001b[39;49mdrop(\n\u001b[0;32m   <a href='file:///c%3A/tools/miniconda3/envs/6s079/lib/site-packages/pandas/core/frame.py?line=4954'>4955</a>\u001b[0m         labels\u001b[39m=\u001b[39;49mlabels,\n\u001b[0;32m   <a href='file:///c%3A/tools/miniconda3/envs/6s079/lib/site-packages/pandas/core/frame.py?line=4955'>4956</a>\u001b[0m         axis\u001b[39m=\u001b[39;49maxis,\n\u001b[0;32m   <a href='file:///c%3A/tools/miniconda3/envs/6s079/lib/site-packages/pandas/core/frame.py?line=4956'>4957</a>\u001b[0m         index\u001b[39m=\u001b[39;49mindex,\n\u001b[0;32m   <a href='file:///c%3A/tools/miniconda3/envs/6s079/lib/site-packages/pandas/core/frame.py?line=4957'>4958</a>\u001b[0m         columns\u001b[39m=\u001b[39;49mcolumns,\n\u001b[0;32m   <a href='file:///c%3A/tools/miniconda3/envs/6s079/lib/site-packages/pandas/core/frame.py?line=4958'>4959</a>\u001b[0m         level\u001b[39m=\u001b[39;49mlevel,\n\u001b[0;32m   <a href='file:///c%3A/tools/miniconda3/envs/6s079/lib/site-packages/pandas/core/frame.py?line=4959'>4960</a>\u001b[0m         inplace\u001b[39m=\u001b[39;49minplace,\n\u001b[0;32m   <a href='file:///c%3A/tools/miniconda3/envs/6s079/lib/site-packages/pandas/core/frame.py?line=4960'>4961</a>\u001b[0m         errors\u001b[39m=\u001b[39;49merrors,\n\u001b[0;32m   <a href='file:///c%3A/tools/miniconda3/envs/6s079/lib/site-packages/pandas/core/frame.py?line=4961'>4962</a>\u001b[0m     )\n",
      "File \u001b[1;32mc:\\tools\\miniconda3\\envs\\6s079\\lib\\site-packages\\pandas\\core\\generic.py:4267\u001b[0m, in \u001b[0;36mNDFrame.drop\u001b[1;34m(self, labels, axis, index, columns, level, inplace, errors)\u001b[0m\n\u001b[0;32m   <a href='file:///c%3A/tools/miniconda3/envs/6s079/lib/site-packages/pandas/core/generic.py?line=4264'>4265</a>\u001b[0m \u001b[39mfor\u001b[39;00m axis, labels \u001b[39min\u001b[39;00m axes\u001b[39m.\u001b[39mitems():\n\u001b[0;32m   <a href='file:///c%3A/tools/miniconda3/envs/6s079/lib/site-packages/pandas/core/generic.py?line=4265'>4266</a>\u001b[0m     \u001b[39mif\u001b[39;00m labels \u001b[39mis\u001b[39;00m \u001b[39mnot\u001b[39;00m \u001b[39mNone\u001b[39;00m:\n\u001b[1;32m-> <a href='file:///c%3A/tools/miniconda3/envs/6s079/lib/site-packages/pandas/core/generic.py?line=4266'>4267</a>\u001b[0m         obj \u001b[39m=\u001b[39m obj\u001b[39m.\u001b[39;49m_drop_axis(labels, axis, level\u001b[39m=\u001b[39;49mlevel, errors\u001b[39m=\u001b[39;49merrors)\n\u001b[0;32m   <a href='file:///c%3A/tools/miniconda3/envs/6s079/lib/site-packages/pandas/core/generic.py?line=4268'>4269</a>\u001b[0m \u001b[39mif\u001b[39;00m inplace:\n\u001b[0;32m   <a href='file:///c%3A/tools/miniconda3/envs/6s079/lib/site-packages/pandas/core/generic.py?line=4269'>4270</a>\u001b[0m     \u001b[39mself\u001b[39m\u001b[39m.\u001b[39m_update_inplace(obj)\n",
      "File \u001b[1;32mc:\\tools\\miniconda3\\envs\\6s079\\lib\\site-packages\\pandas\\core\\generic.py:4311\u001b[0m, in \u001b[0;36mNDFrame._drop_axis\u001b[1;34m(self, labels, axis, level, errors, consolidate, only_slice)\u001b[0m\n\u001b[0;32m   <a href='file:///c%3A/tools/miniconda3/envs/6s079/lib/site-packages/pandas/core/generic.py?line=4308'>4309</a>\u001b[0m         new_axis \u001b[39m=\u001b[39m axis\u001b[39m.\u001b[39mdrop(labels, level\u001b[39m=\u001b[39mlevel, errors\u001b[39m=\u001b[39merrors)\n\u001b[0;32m   <a href='file:///c%3A/tools/miniconda3/envs/6s079/lib/site-packages/pandas/core/generic.py?line=4309'>4310</a>\u001b[0m     \u001b[39melse\u001b[39;00m:\n\u001b[1;32m-> <a href='file:///c%3A/tools/miniconda3/envs/6s079/lib/site-packages/pandas/core/generic.py?line=4310'>4311</a>\u001b[0m         new_axis \u001b[39m=\u001b[39m axis\u001b[39m.\u001b[39;49mdrop(labels, errors\u001b[39m=\u001b[39;49merrors)\n\u001b[0;32m   <a href='file:///c%3A/tools/miniconda3/envs/6s079/lib/site-packages/pandas/core/generic.py?line=4311'>4312</a>\u001b[0m     indexer \u001b[39m=\u001b[39m axis\u001b[39m.\u001b[39mget_indexer(new_axis)\n\u001b[0;32m   <a href='file:///c%3A/tools/miniconda3/envs/6s079/lib/site-packages/pandas/core/generic.py?line=4313'>4314</a>\u001b[0m \u001b[39m# Case for non-unique axis\u001b[39;00m\n\u001b[0;32m   <a href='file:///c%3A/tools/miniconda3/envs/6s079/lib/site-packages/pandas/core/generic.py?line=4314'>4315</a>\u001b[0m \u001b[39melse\u001b[39;00m:\n",
      "File \u001b[1;32mc:\\tools\\miniconda3\\envs\\6s079\\lib\\site-packages\\pandas\\core\\indexes\\base.py:6644\u001b[0m, in \u001b[0;36mIndex.drop\u001b[1;34m(self, labels, errors)\u001b[0m\n\u001b[0;32m   <a href='file:///c%3A/tools/miniconda3/envs/6s079/lib/site-packages/pandas/core/indexes/base.py?line=6641'>6642</a>\u001b[0m \u001b[39mif\u001b[39;00m mask\u001b[39m.\u001b[39many():\n\u001b[0;32m   <a href='file:///c%3A/tools/miniconda3/envs/6s079/lib/site-packages/pandas/core/indexes/base.py?line=6642'>6643</a>\u001b[0m     \u001b[39mif\u001b[39;00m errors \u001b[39m!=\u001b[39m \u001b[39m\"\u001b[39m\u001b[39mignore\u001b[39m\u001b[39m\"\u001b[39m:\n\u001b[1;32m-> <a href='file:///c%3A/tools/miniconda3/envs/6s079/lib/site-packages/pandas/core/indexes/base.py?line=6643'>6644</a>\u001b[0m         \u001b[39mraise\u001b[39;00m \u001b[39mKeyError\u001b[39;00m(\u001b[39mf\u001b[39m\u001b[39m\"\u001b[39m\u001b[39m{\u001b[39;00m\u001b[39mlist\u001b[39m(labels[mask])\u001b[39m}\u001b[39;00m\u001b[39m not found in axis\u001b[39m\u001b[39m\"\u001b[39m)\n\u001b[0;32m   <a href='file:///c%3A/tools/miniconda3/envs/6s079/lib/site-packages/pandas/core/indexes/base.py?line=6644'>6645</a>\u001b[0m     indexer \u001b[39m=\u001b[39m indexer[\u001b[39m~\u001b[39mmask]\n\u001b[0;32m   <a href='file:///c%3A/tools/miniconda3/envs/6s079/lib/site-packages/pandas/core/indexes/base.py?line=6645'>6646</a>\u001b[0m \u001b[39mreturn\u001b[39;00m \u001b[39mself\u001b[39m\u001b[39m.\u001b[39mdelete(indexer)\n",
      "\u001b[1;31mKeyError\u001b[0m: \"['author', 0] not found in axis\""
     ]
    }
   ],
   "source": [
    "# now, drop some redundant colums cuz bloat\n",
    "df = df.drop(['author', 0], axis=1)"
   ]
  },
  {
   "cell_type": "code",
   "execution_count": 26,
   "metadata": {},
   "outputs": [
    {
     "data": {
      "text/html": [
       "<div>\n",
       "<style scoped>\n",
       "    .dataframe tbody tr th:only-of-type {\n",
       "        vertical-align: middle;\n",
       "    }\n",
       "\n",
       "    .dataframe tbody tr th {\n",
       "        vertical-align: top;\n",
       "    }\n",
       "\n",
       "    .dataframe thead th {\n",
       "        text-align: right;\n",
       "    }\n",
       "</style>\n",
       "<table border=\"1\" class=\"dataframe\">\n",
       "  <thead>\n",
       "    <tr style=\"text-align: right;\">\n",
       "      <th></th>\n",
       "      <th>year</th>\n",
       "      <th>paper-Name</th>\n",
       "      <th>journal</th>\n",
       "      <th>author-name</th>\n",
       "    </tr>\n",
       "  </thead>\n",
       "  <tbody>\n",
       "    <tr>\n",
       "      <th>0</th>\n",
       "      <td>2021</td>\n",
       "      <td>Informer: Beyond Efficient Transformer for Lon...</td>\n",
       "      <td>AAAI (Artificial Intelligence)</td>\n",
       "      <td>Haoyi Zhou</td>\n",
       "    </tr>\n",
       "    <tr>\n",
       "      <th>1</th>\n",
       "      <td>2021</td>\n",
       "      <td>Informer: Beyond Efficient Transformer for Lon...</td>\n",
       "      <td>AAAI (Artificial Intelligence)</td>\n",
       "      <td>Shanghang Zhang</td>\n",
       "    </tr>\n",
       "    <tr>\n",
       "      <th>2</th>\n",
       "      <td>2021</td>\n",
       "      <td>Informer: Beyond Efficient Transformer for Lon...</td>\n",
       "      <td>AAAI (Artificial Intelligence)</td>\n",
       "      <td>Jieqi Peng</td>\n",
       "    </tr>\n",
       "    <tr>\n",
       "      <th>3</th>\n",
       "      <td>2021</td>\n",
       "      <td>Informer: Beyond Efficient Transformer for Lon...</td>\n",
       "      <td>AAAI (Artificial Intelligence)</td>\n",
       "      <td>Shuai Zhang</td>\n",
       "    </tr>\n",
       "    <tr>\n",
       "      <th>4</th>\n",
       "      <td>2021</td>\n",
       "      <td>Informer: Beyond Efficient Transformer for Lon...</td>\n",
       "      <td>AAAI (Artificial Intelligence)</td>\n",
       "      <td>Jianxin Li</td>\n",
       "    </tr>\n",
       "  </tbody>\n",
       "</table>\n",
       "</div>"
      ],
      "text/plain": [
       "   year                                         paper-Name  \\\n",
       "0  2021  Informer: Beyond Efficient Transformer for Lon...   \n",
       "1  2021  Informer: Beyond Efficient Transformer for Lon...   \n",
       "2  2021  Informer: Beyond Efficient Transformer for Lon...   \n",
       "3  2021  Informer: Beyond Efficient Transformer for Lon...   \n",
       "4  2021  Informer: Beyond Efficient Transformer for Lon...   \n",
       "\n",
       "                          journal      author-name  \n",
       "0  AAAI (Artificial Intelligence)       Haoyi Zhou  \n",
       "1  AAAI (Artificial Intelligence)  Shanghang Zhang  \n",
       "2  AAAI (Artificial Intelligence)       Jieqi Peng  \n",
       "3  AAAI (Artificial Intelligence)      Shuai Zhang  \n",
       "4  AAAI (Artificial Intelligence)       Jianxin Li  "
      ]
     },
     "execution_count": 26,
     "metadata": {},
     "output_type": "execute_result"
    }
   ],
   "source": [
    "df.head()\n",
    "# NICE"
   ]
  },
  {
   "cell_type": "code",
   "execution_count": 27,
   "metadata": {},
   "outputs": [],
   "source": [
    "# now write to tsv\n",
    "# tab-sep, cuz the real data might have commas...\n",
    "\n",
    "df.to_csv('../data/awards-data.tsv', sep='\\t', index=False)"
   ]
  }
 ],
 "metadata": {
  "interpreter": {
   "hash": "98e05c05992e930807fe788f9aae80420ee99fb8a9e4a0ca0e84103c9a329069"
  },
  "kernelspec": {
   "display_name": "Python 3",
   "language": "python",
   "name": "python3"
  },
  "language_info": {
   "codemirror_mode": {
    "name": "ipython",
    "version": 3
   },
   "file_extension": ".py",
   "mimetype": "text/x-python",
   "name": "python",
   "nbconvert_exporter": "python",
   "pygments_lexer": "ipython3",
   "version": "3.6.9"
  }
 },
 "nbformat": 4,
 "nbformat_minor": 2
}
