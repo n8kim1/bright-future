{
 "cells": [
  {
   "cell_type": "code",
   "execution_count": 3,
   "metadata": {},
   "outputs": [],
   "source": [
    "import numpy as np\n",
    "import pandas as pd"
   ]
  },
  {
   "cell_type": "code",
   "execution_count": 4,
   "metadata": {},
   "outputs": [],
   "source": [
    "import json"
   ]
  },
  {
   "cell_type": "code",
   "execution_count": 49,
   "metadata": {},
   "outputs": [
    {
     "data": {
      "text/plain": [
       "<module 'bright_future_base' from '\\\\\\\\wsl$\\\\Ubuntu-20.04\\\\home\\\\syoro\\\\bright-future\\\\src\\\\bright_future_base.py'>"
      ]
     },
     "execution_count": 49,
     "metadata": {},
     "output_type": "execute_result"
    }
   ],
   "source": [
    "from importlib import reload \n",
    "import bright_future_base\n",
    "reload(bright_future_base)"
   ]
  },
  {
   "cell_type": "code",
   "execution_count": 50,
   "metadata": {},
   "outputs": [],
   "source": [
    "df_authors = bright_future_base.load_df_authors()"
   ]
  },
  {
   "cell_type": "markdown",
   "metadata": {},
   "source": [
    "Hypothetical: Say Tim has won the \"Kraska Krown\", Sam has won the \"Madden Memorial (RIP Sam) Award\". And, they have each won the \"6S079 Prof Award\", in different years."
   ]
  },
  {
   "cell_type": "code",
   "execution_count": 16,
   "metadata": {},
   "outputs": [
    {
     "data": {
      "text/plain": [
       "{'Kraska Krown': {2021: 'Tim Kraska'},\n",
       " 'Madden Memorial (RIP Sam) Award': {2020: 'Samuel Madden'},\n",
       " '6.S079 Prof Award': {2021: 'Tim Kraska', 2020: 'Samuel Madden'}}"
      ]
     },
     "execution_count": 16,
     "metadata": {},
     "output_type": "execute_result"
    }
   ],
   "source": [
    "award_winners = bright_future_base.load_award_winners()\n",
    "award_winners"
   ]
  },
  {
   "cell_type": "code",
   "execution_count": 17,
   "metadata": {},
   "outputs": [
    {
     "data": {
      "text/html": [
       "<div>\n",
       "<style scoped>\n",
       "    .dataframe tbody tr th:only-of-type {\n",
       "        vertical-align: middle;\n",
       "    }\n",
       "\n",
       "    .dataframe tbody tr th {\n",
       "        vertical-align: top;\n",
       "    }\n",
       "\n",
       "    .dataframe thead th {\n",
       "        text-align: right;\n",
       "    }\n",
       "</style>\n",
       "<table border=\"1\" class=\"dataframe\">\n",
       "  <thead>\n",
       "    <tr style=\"text-align: right;\">\n",
       "      <th></th>\n",
       "      <th>name</th>\n",
       "      <th>dept</th>\n",
       "      <th>area</th>\n",
       "      <th>count</th>\n",
       "      <th>adjustedcount</th>\n",
       "      <th>year</th>\n",
       "      <th>title</th>\n",
       "    </tr>\n",
       "  </thead>\n",
       "  <tbody>\n",
       "    <tr>\n",
       "      <th>0</th>\n",
       "      <td>Samuel Madden</td>\n",
       "      <td>Massachusetts Institute of Technology</td>\n",
       "      <td>aaai</td>\n",
       "      <td>1</td>\n",
       "      <td>0.1</td>\n",
       "      <td>2020</td>\n",
       "      <td>AI</td>\n",
       "    </tr>\n",
       "    <tr>\n",
       "      <th>3</th>\n",
       "      <td>Samuel Madden</td>\n",
       "      <td>Massachusetts Institute of Technology</td>\n",
       "      <td>eccv</td>\n",
       "      <td>1</td>\n",
       "      <td>0.11111</td>\n",
       "      <td>2020</td>\n",
       "      <td>Vision</td>\n",
       "    </tr>\n",
       "    <tr>\n",
       "      <th>18</th>\n",
       "      <td>Samuel Madden</td>\n",
       "      <td>Massachusetts Institute of Technology</td>\n",
       "      <td>icde</td>\n",
       "      <td>1</td>\n",
       "      <td>0.2</td>\n",
       "      <td>2020</td>\n",
       "      <td>DB</td>\n",
       "    </tr>\n",
       "    <tr>\n",
       "      <th>24</th>\n",
       "      <td>Samuel Madden</td>\n",
       "      <td>Massachusetts Institute of Technology</td>\n",
       "      <td>mobisys</td>\n",
       "      <td>1</td>\n",
       "      <td>0.1</td>\n",
       "      <td>2020</td>\n",
       "      <td>Mobile</td>\n",
       "    </tr>\n",
       "    <tr>\n",
       "      <th>28</th>\n",
       "      <td>Samuel Madden</td>\n",
       "      <td>Massachusetts Institute of Technology</td>\n",
       "      <td>oopsla</td>\n",
       "      <td>1</td>\n",
       "      <td>0.25</td>\n",
       "      <td>2020</td>\n",
       "      <td>PL</td>\n",
       "    </tr>\n",
       "    <tr>\n",
       "      <th>48</th>\n",
       "      <td>Samuel Madden</td>\n",
       "      <td>Massachusetts Institute of Technology</td>\n",
       "      <td>sigmod</td>\n",
       "      <td>5</td>\n",
       "      <td>1.0611</td>\n",
       "      <td>2020</td>\n",
       "      <td>DB</td>\n",
       "    </tr>\n",
       "    <tr>\n",
       "      <th>69</th>\n",
       "      <td>Samuel Madden</td>\n",
       "      <td>Massachusetts Institute of Technology</td>\n",
       "      <td>vldb</td>\n",
       "      <td>1</td>\n",
       "      <td>0.25</td>\n",
       "      <td>2020</td>\n",
       "      <td>DB</td>\n",
       "    </tr>\n",
       "  </tbody>\n",
       "</table>\n",
       "</div>"
      ],
      "text/plain": [
       "             name                                   dept     area  count  \\\n",
       "0   Samuel Madden  Massachusetts Institute of Technology     aaai      1   \n",
       "3   Samuel Madden  Massachusetts Institute of Technology     eccv      1   \n",
       "18  Samuel Madden  Massachusetts Institute of Technology     icde      1   \n",
       "24  Samuel Madden  Massachusetts Institute of Technology  mobisys      1   \n",
       "28  Samuel Madden  Massachusetts Institute of Technology   oopsla      1   \n",
       "48  Samuel Madden  Massachusetts Institute of Technology   sigmod      5   \n",
       "69  Samuel Madden  Massachusetts Institute of Technology     vldb      1   \n",
       "\n",
       "    adjustedcount  year   title  \n",
       "0             0.1  2020      AI  \n",
       "3         0.11111  2020  Vision  \n",
       "18            0.2  2020      DB  \n",
       "24            0.1  2020  Mobile  \n",
       "28           0.25  2020      PL  \n",
       "48         1.0611  2020      DB  \n",
       "69           0.25  2020      DB  "
      ]
     },
     "execution_count": 17,
     "metadata": {},
     "output_type": "execute_result"
    }
   ],
   "source": [
    "# TODO move this filtering into helper files, so that users don't have to do it themselves.\n",
    "# smth like filter_authors(name='Sam', year='2020')\n",
    "# filter_for_award_winner( (2020:'Sam') ) \n",
    "madden_award_winner = df_authors[(df_authors['name'] == 'Samuel Madden') & (df_authors['year']==2020)]\n",
    "madden_award_winner"
   ]
  },
  {
   "cell_type": "code",
   "execution_count": 103,
   "metadata": {},
   "outputs": [
    {
     "data": {
      "text/plain": [
       "{'AI': 1,\n",
       " 'DB': 85,\n",
       " 'HCI': 1,\n",
       " 'ML': 1,\n",
       " 'Mobile': 8,\n",
       " 'Networks': 3,\n",
       " 'PL': 2,\n",
       " 'SE': 1,\n",
       " 'Systems': 6,\n",
       " 'Vision': 4,\n",
       " 'Web & IR': 1}"
      ]
     },
     "execution_count": 103,
     "metadata": {},
     "output_type": "execute_result"
    }
   ],
   "source": [
    "count_works_by_name('Samuel Madden')"
   ]
  },
  {
   "cell_type": "markdown",
   "metadata": {},
   "source": [
    "How well does a diff person's research profile (hypothetically, Tim's cuz im too lazy to load data) stick up to the award winner?"
   ]
  },
  {
   "cell_type": "code",
   "execution_count": 35,
   "metadata": {},
   "outputs": [],
   "source": [
    "# TODO option to use raw or adjusted counts"
   ]
  },
  {
   "cell_type": "code",
   "execution_count": 8,
   "metadata": {},
   "outputs": [
    {
     "data": {
      "text/html": [
       "<div>\n",
       "<style scoped>\n",
       "    .dataframe tbody tr th:only-of-type {\n",
       "        vertical-align: middle;\n",
       "    }\n",
       "\n",
       "    .dataframe tbody tr th {\n",
       "        vertical-align: top;\n",
       "    }\n",
       "\n",
       "    .dataframe thead th {\n",
       "        text-align: right;\n",
       "    }\n",
       "</style>\n",
       "<table border=\"1\" class=\"dataframe\">\n",
       "  <thead>\n",
       "    <tr style=\"text-align: right;\">\n",
       "      <th></th>\n",
       "      <th>name</th>\n",
       "      <th>dept</th>\n",
       "      <th>area</th>\n",
       "      <th>count</th>\n",
       "      <th>adjustedcount</th>\n",
       "      <th>year</th>\n",
       "      <th>title</th>\n",
       "    </tr>\n",
       "  </thead>\n",
       "  <tbody>\n",
       "    <tr>\n",
       "      <th>76</th>\n",
       "      <td>Tim Kraska</td>\n",
       "      <td>Massachusetts Institute of Technology</td>\n",
       "      <td>icde</td>\n",
       "      <td>1</td>\n",
       "      <td>0.33333</td>\n",
       "      <td>2020</td>\n",
       "      <td>DB</td>\n",
       "    </tr>\n",
       "    <tr>\n",
       "      <th>78</th>\n",
       "      <td>Tim Kraska</td>\n",
       "      <td>Massachusetts Institute of Technology</td>\n",
       "      <td>mobisys</td>\n",
       "      <td>1</td>\n",
       "      <td>0.1</td>\n",
       "      <td>2020</td>\n",
       "      <td>Mobile</td>\n",
       "    </tr>\n",
       "    <tr>\n",
       "      <th>90</th>\n",
       "      <td>Tim Kraska</td>\n",
       "      <td>Massachusetts Institute of Technology</td>\n",
       "      <td>sigmod</td>\n",
       "      <td>7</td>\n",
       "      <td>1.3444</td>\n",
       "      <td>2020</td>\n",
       "      <td>DB</td>\n",
       "    </tr>\n",
       "    <tr>\n",
       "      <th>101</th>\n",
       "      <td>Tim Kraska</td>\n",
       "      <td>Massachusetts Institute of Technology</td>\n",
       "      <td>vldb</td>\n",
       "      <td>3</td>\n",
       "      <td>0.54167</td>\n",
       "      <td>2020</td>\n",
       "      <td>DB</td>\n",
       "    </tr>\n",
       "  </tbody>\n",
       "</table>\n",
       "</div>"
      ],
      "text/plain": [
       "           name                                   dept     area  count  \\\n",
       "76   Tim Kraska  Massachusetts Institute of Technology     icde      1   \n",
       "78   Tim Kraska  Massachusetts Institute of Technology  mobisys      1   \n",
       "90   Tim Kraska  Massachusetts Institute of Technology   sigmod      7   \n",
       "101  Tim Kraska  Massachusetts Institute of Technology     vldb      3   \n",
       "\n",
       "     adjustedcount  year   title  \n",
       "76         0.33333  2020      DB  \n",
       "78             0.1  2020  Mobile  \n",
       "90          1.3444  2020      DB  \n",
       "101        0.54167  2020      DB  "
      ]
     },
     "execution_count": 8,
     "metadata": {},
     "output_type": "execute_result"
    }
   ],
   "source": [
    "my_authors = df_authors[(df_authors['name'] == 'Tim Kraska') & (df_authors['year']==(2020))]\n",
    "my_authors"
   ]
  },
  {
   "cell_type": "code",
   "execution_count": 56,
   "metadata": {},
   "outputs": [],
   "source": [
    "# TODO move this into helper file\n",
    "def group_works_by_title(df_authors):\n",
    "    return df_authors.groupby('title').sum()\n",
    "\n",
    "# TODO count or adjusted?\n",
    "# TODO move\n",
    "def count_works_by_title(df_authors):\n",
    "    grouped = group_works_by_title(df_authors)\n",
    "    return grouped['count'].to_dict()\n",
    "\n",
    "def get_works_by_author(name):\n",
    "    return df_authors[(df_authors['name'] == name) ]\n",
    "\n",
    "def count_works_by_name(name):\n",
    "    return count_works_by_title(get_works_by_author(name))"
   ]
  },
  {
   "cell_type": "code",
   "execution_count": 45,
   "metadata": {},
   "outputs": [],
   "source": [
    "from sklearn.feature_extraction import DictVectorizer\n",
    "from sklearn.metrics.pairwise import cosine_similarity\n"
   ]
  },
  {
   "cell_type": "code",
   "execution_count": 48,
   "metadata": {},
   "outputs": [
    {
     "name": "stdout",
     "output_type": "stream",
     "text": [
      "{'AI': 1, 'DB': 85, 'HCI': 1, 'ML': 1, 'Mobile': 8, 'Networks': 3, 'PL': 2, 'SE': 1, 'Systems': 6, 'Vision': 4, 'Web & IR': 1} {'DB': 54, 'HCI': 3, 'ML': 2, 'Mobile': 1, 'Systems': 1, 'Web & IR': 1}\n"
     ]
    },
    {
     "data": {
      "text/plain": [
       "array([[1.        , 0.99245207],\n",
       "       [0.99245207, 1.        ]])"
      ]
     },
     "execution_count": 48,
     "metadata": {},
     "output_type": "execute_result"
    }
   ],
   "source": [
    "# Group works, (optionally filter years), then run similarity.\n",
    "# Compute similarity by title or area? should use option\n",
    "def similarity_author_works(name_1, name_2, year=None, metric='cosine', adjusted = False):\n",
    "    works_1 = df_authors[(df_authors['name'] == name_1) ]\n",
    "    works_2 = df_authors[(df_authors['name'] == name_2) ]\n",
    "    \n",
    "    works_by_title_1 = count_works_by_title(works_1)\n",
    "    works_by_title_2 = count_works_by_title(works_2)\n",
    "    v = DictVectorizer()\n",
    "    works_stacked = [works_by_title_1, works_by_title_2]\n",
    "    works_encoded = v.fit_transform(works_stacked)\n",
    "    print(works_by_title_1, works_by_title_2)\n",
    "    return cosine_similarity(works_encoded)\n",
    "\n",
    "similarity_author_works('Samuel Madden', 'Tim Kraska')"
   ]
  },
  {
   "cell_type": "markdown",
   "metadata": {},
   "source": [
    "So, Tim's research profile is quite similar to the Madden award winner!"
   ]
  },
  {
   "cell_type": "code",
   "execution_count": 62,
   "metadata": {},
   "outputs": [],
   "source": [
    "w1= count_works_by_name('Tim Kraska')\n",
    "w2=count_works_by_name('Samuel Madden')\n",
    "w3 = count_works_by_name('David R. Karger')\n",
    "\n",
    "works_stacked = [w1, w2, w3]\n",
    "v = DictVectorizer()\n",
    "works_encoded = v.fit_transform(works_stacked)\n"
   ]
  },
  {
   "cell_type": "code",
   "execution_count": 63,
   "metadata": {},
   "outputs": [
    {
     "data": {
      "text/plain": [
       "<3x17 sparse matrix of type '<class 'numpy.float64'>'\n",
       "\twith 32 stored elements in Compressed Sparse Row format>"
      ]
     },
     "execution_count": 63,
     "metadata": {},
     "output_type": "execute_result"
    }
   ],
   "source": [
    "works_encoded"
   ]
  },
  {
   "cell_type": "code",
   "execution_count": 65,
   "metadata": {},
   "outputs": [],
   "source": [
    "from sklearn.linear_model import SGDClassifier"
   ]
  },
  {
   "cell_type": "code",
   "execution_count": 80,
   "metadata": {},
   "outputs": [],
   "source": [
    "import numpy as np"
   ]
  },
  {
   "cell_type": "code",
   "execution_count": 99,
   "metadata": {},
   "outputs": [
    {
     "data": {
      "text/plain": [
       "SGDClassifier(loss='log')"
      ]
     },
     "execution_count": 99,
     "metadata": {},
     "output_type": "execute_result"
    }
   ],
   "source": [
    "lin_sgd = SGDClassifier(loss='log')\n",
    "lin_sgd.fit(works_encoded[0:3], [0, 1, 0])"
   ]
  },
  {
   "cell_type": "code",
   "execution_count": 102,
   "metadata": {},
   "outputs": [
    {
     "data": {
      "text/plain": [
       "array([[1., 0.]])"
      ]
     },
     "execution_count": 102,
     "metadata": {},
     "output_type": "execute_result"
    }
   ],
   "source": [
    "lin_sgd.predict_proba(works_encoded[0])"
   ]
  },
  {
   "cell_type": "code",
   "execution_count": null,
   "metadata": {},
   "outputs": [],
   "source": []
  }
 ],
 "metadata": {
  "kernelspec": {
   "display_name": "Python 3 (ipykernel)",
   "language": "python",
   "name": "python3"
  },
  "language_info": {
   "codemirror_mode": {
    "name": "ipython",
    "version": 3
   },
   "file_extension": ".py",
   "mimetype": "text/x-python",
   "name": "python",
   "nbconvert_exporter": "python",
   "pygments_lexer": "ipython3",
   "version": "3.10.4"
  }
 },
 "nbformat": 4,
 "nbformat_minor": 2
}
